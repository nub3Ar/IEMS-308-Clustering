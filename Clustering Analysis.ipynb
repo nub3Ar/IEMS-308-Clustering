{
 "cells": [
  {
   "cell_type": "code",
   "execution_count": 326,
   "metadata": {},
   "outputs": [],
   "source": [
    "import pandas as pd\n",
    "import numpy as np\n",
    "import matplotlib.pyplot as plt\n",
    "import pandas_profiling as pp\n",
    "from copy import deepcopy\n",
    "\n",
    "from sklearn.cluster import KMeans\n",
    "from sklearn.metrics import silhouette_score\n",
    "\n",
    "pd.set_option('display.max_rows', 100)\n",
    "pd.set_option('display.max_columns', 100)"
   ]
  },
  {
   "cell_type": "code",
   "execution_count": 144,
   "metadata": {},
   "outputs": [],
   "source": [
    "raw = pd.read_csv('Data/ER doctors.csv')\n",
    "zip_lat_lon = pd.read_csv('Data/us-zip-coordinate.csv', delimiter=';')"
   ]
  },
  {
   "cell_type": "code",
   "execution_count": 562,
   "metadata": {},
   "outputs": [],
   "source": [
    "def add_lat_long(data, lat_long):\n",
    "    '''\n",
    "        merge original data with geo-index to get longitude and latitude\n",
    "    '''\n",
    "    data = data.merge(lat_long, left_on='zipcode', right_on='Zip')\n",
    "    data = data.drop(columns = ['nppes_provider_zip', 'Zip', 'geopoint', 'Daylight savings time flag', 'Timezone'])\n",
    "    return data\n",
    "\n",
    "def standardize(column):\n",
    "    '''\n",
    "        standardize a column \n",
    "    '''\n",
    "    mean = np.mean(column)\n",
    "    std = np.std(column)\n",
    "    column = (column-mean)/std\n",
    "    return column\n",
    "\n",
    "def normalize(column):\n",
    "    '''\n",
    "        standardize a column \n",
    "    '''\n",
    "    minimum = np.min(column)\n",
    "    maximum = np.max(column)\n",
    "    column = (column-minimum)/(maximum-minimum)\n",
    "    return column\n",
    "\n",
    "def outlier_removal(df, columns, z_threshold=3):\n",
    "    '''\n",
    "        remove rows that are outliers in given columns\n",
    "        criteria: entries with z-score outside of the threshold\n",
    "    '''\n",
    "    for column in columns:\n",
    "        avg = np.mean(df[column])\n",
    "        std = np.std(df[column])\n",
    "        threshold_upper = avg+std*z_threshold\n",
    "        threshold_lower = avg-std*z_threshold\n",
    "        df = df[df[column] <= threshold_upper]\n",
    "        df = df[df[column] >= threshold_lower]\n",
    "    \n",
    "    return df\n",
    "    \n",
    "    \n",
    "def kmeans_clustering(data, features, n = 5):\n",
    "    '''\n",
    "        run kmeans with n clusters and return the clustered data as well as scores\n",
    "    '''\n",
    "    subset = data[features]\n",
    "    \n",
    "    clusterer = KMeans(n_clusters=n, random_state=0)\n",
    "    labels = clusterer.fit_predict(subset)\n",
    "    \n",
    "    centers = clusterer.cluster_centers_\n",
    "    distance = clusterer.inertia_\n",
    "    \n",
    "\n",
    "    data['clusters'] = labels\n",
    "    \n",
    "    return data, centers, distance"
   ]
  },
  {
   "cell_type": "code",
   "execution_count": 555,
   "metadata": {},
   "outputs": [],
   "source": [
    "# data cleaning and subsetting\n",
    "data = deepcopy(raw[['nppes_provider_zip', 'provider_type','place_of_service','line_srvc_cnt',\n",
    " 'bene_unique_cnt', 'bene_day_srvc_cnt', 'average_Medicare_allowed_amt', 'average_submitted_chrg_amt', 'average_Medicare_payment_amt','average_Medicare_standard_amt']])\n",
    "\n",
    "\n",
    "# adding geo data\n",
    "data['zipcode'] = data.nppes_provider_zip.astype('int')\n",
    "data = add_lat_long(data, zip_lat_lon)\n",
    "\n",
    "\n",
    "# extra varaibles\n",
    "data['total_spending'] = data['line_srvc_cnt'] * data['average_submitted_chrg_amt']\n",
    "data['coverage_rate'] = data['average_Medicare_payment_amt']/data['average_Medicare_allowed_amt']\n",
    "\n",
    "# further subsetting\n",
    "data = data[data.place_of_service == 'F']\n",
    "\n",
    "#outlier removal\n",
    "data = outlier_removal(data, ['line_srvc_cnt', 'bene_unique_cnt', 'bene_day_srvc_cnt', 'average_Medicare_allowed_amt', 'average_submitted_chrg_amt', 'average_Medicare_payment_amt','average_Medicare_standard_amt', 'coverage_rate'])\n"
   ]
  },
  {
   "cell_type": "code",
   "execution_count": 492,
   "metadata": {},
   "outputs": [],
   "source": [
    "# feature transformation (not actually used)\n",
    "need_standardizing = ['average_submitted_chrg_amt','line_srvc_cnt', 'coverage_rate', 'total_spending']\n",
    "need_log_transform = ['average_submitted_chrg_amt','line_srvc_cnt']\n",
    "\n",
    "for feature in need_standardizing:\n",
    "    data[feature+'_stdized'] = normalize(standardize(data[feature]))\n",
    "                                                   "
   ]
  },
  {
   "cell_type": "markdown",
   "metadata": {},
   "source": [
    "Geographical Clustering"
   ]
  },
  {
   "cell_type": "code",
   "execution_count": 591,
   "metadata": {
    "scrolled": true
   },
   "outputs": [
    {
     "data": {
      "image/png": "[encoded data removed]",
      "text/plain": [
       "<Figure size 864x576 with 1 Axes>"
      ]
     },
     "metadata": {
      "needs_background": "light"
     },
     "output_type": "display_data"
    }
   ],
   "source": [
    "score_list = []\n",
    "for i in range(3, 40):\n",
    "    results, center, score = kmeans_clustering(data, ['Latitude', 'Longitude'], n=i)\n",
    "    score_list.append(score)\n",
    "\n",
    "plt.figure(figsize=(12, 8))\n",
    "plt.title('Elbow plot')\n",
    "plt.xlabel('n')\n",
    "plt.ylabel('distance metric')\n",
    "plt.plot(list(range(3, 40)), score_list)\n",
    "plt.show()"
   ]
  },
  {
   "cell_type": "code",
   "execution_count": 620,
   "metadata": {},
   "outputs": [
    {
     "data": {
      "text/plain": [
       "0.6080635405339093"
      ]
     },
     "execution_count": 620,
     "metadata": {},
     "output_type": "execute_result"
    }
   ],
   "source": [
    "results, center, score = kmeans_clustering(data, ['Latitude', 'Longitude'], n=200)\n",
    "silhouette_score(results[['Latitude', 'Longitude']], results['clusters'], sample_size = 10000)"
   ]
  },
  {
   "cell_type": "code",
   "execution_count": 590,
   "metadata": {},
   "outputs": [],
   "source": [
    "cluster_groups = results.groupby('clusters').agg(['mean', 'median', 'count'])[['average_submitted_chrg_amt','line_srvc_cnt', 'coverage_rate', 'total_spending', 'Latitude', 'Longitude']]\n",
    "cluster_groups.columns = cluster_groups.columns.map('_'.join).str.strip('_')"
   ]
  },
  {
   "cell_type": "code",
   "execution_count": 596,
   "metadata": {},
   "outputs": [
    {
     "data": {
      "text/html": [
       "<div>\n",
       "<style scoped>\n",
       "    .dataframe tbody tr th:only-of-type {\n",
       "        vertical-align: middle;\n",
       "    }\n",
       "\n",
       "    .dataframe tbody tr th {\n",
       "        vertical-align: top;\n",
       "    }\n",
       "\n",
       "    .dataframe thead th {\n",
       "        text-align: right;\n",
       "    }\n",
       "</style>\n",
       "<table border=\"1\" class=\"dataframe\">\n",
       "  <thead>\n",
       "    <tr style=\"text-align: right;\">\n",
       "      <th></th>\n",
       "      <th>line_srvc_cnt_mean</th>\n",
       "      <th>coverage_rate_mean</th>\n",
       "    </tr>\n",
       "  </thead>\n",
       "  <tbody>\n",
       "    <tr>\n",
       "      <th>line_srvc_cnt_mean</th>\n",
       "      <td>1.000000</td>\n",
       "      <td>-0.162627</td>\n",
       "    </tr>\n",
       "    <tr>\n",
       "      <th>coverage_rate_mean</th>\n",
       "      <td>-0.162627</td>\n",
       "      <td>1.000000</td>\n",
       "    </tr>\n",
       "  </tbody>\n",
       "</table>\n",
       "</div>"
      ],
      "text/plain": [
       "                    line_srvc_cnt_mean  coverage_rate_mean\n",
       "line_srvc_cnt_mean            1.000000           -0.162627\n",
       "coverage_rate_mean           -0.162627            1.000000"
      ]
     },
     "execution_count": 596,
     "metadata": {},
     "output_type": "execute_result"
    }
   ],
   "source": [
    "cluster_groups[['line_srvc_cnt_mean', 'coverage_rate_mean']].corr(method='spearman')"
   ]
  },
  {
   "cell_type": "markdown",
   "metadata": {},
   "source": [
    "Top 5 highest and lowest rates"
   ]
  },
  {
   "cell_type": "code",
   "execution_count": 632,
   "metadata": {},
   "outputs": [
    {
     "data": {
      "text/plain": [
       "count    175311.000000\n",
       "mean          0.757614\n",
       "std           0.043043\n",
       "min           0.610659\n",
       "25%           0.736333\n",
       "50%           0.764023\n",
       "75%           0.783663\n",
       "max           0.889339\n",
       "Name: coverage_rate, dtype: float64"
      ]
     },
     "execution_count": 632,
     "metadata": {},
     "output_type": "execute_result"
    }
   ],
   "source": [
    "# coverage rate\n",
    "results.coverage_rate.describe()"
   ]
  },
  {
   "cell_type": "code",
   "execution_count": 643,
   "metadata": {},
   "outputs": [
    {
     "data": {
      "image/png": "[encoded data removed]",
      "text/plain": [
       "<Figure size 432x288 with 1 Axes>"
      ]
     },
     "metadata": {
      "needs_background": "light"
     },
     "output_type": "display_data"
    }
   ],
   "source": [
    "cluster_groups.coverage_rate_mean.hist()\n",
    "plt.show()"
   ]
  },
  {
   "cell_type": "code",
   "execution_count": 646,
   "metadata": {},
   "outputs": [
    {
     "data": {
      "text/plain": [
       "0.7347431344481634"
      ]
     },
     "execution_count": 646,
     "metadata": {},
     "output_type": "execute_result"
    }
   ],
   "source": [
    "cluster_groups.coverage_rate_mean.quantile(.05)"
   ]
  },
  {
   "cell_type": "code",
   "execution_count": 636,
   "metadata": {
    "scrolled": true
   },
   "outputs": [
    {
     "name": "stdout",
     "output_type": "stream",
     "text": [
      "130510    OR\n",
      "Name: State, dtype: object\n",
      "16384    CA\n",
      "Name: State, dtype: object\n",
      "28659    CA\n",
      "Name: State, dtype: object\n",
      "45168    CA\n",
      "Name: State, dtype: object\n",
      "2213    CA\n",
      "Name: State, dtype: object\n",
      "126783    CA\n",
      "Name: State, dtype: object\n",
      "9507    NC\n",
      "Name: State, dtype: object\n",
      "21797    CA\n",
      "Name: State, dtype: object\n",
      "65936    CA\n",
      "Name: State, dtype: object\n",
      "38697    FL\n",
      "Name: State, dtype: object\n",
      "168953    AZ\n",
      "Name: State, dtype: object\n",
      "100585    WY\n",
      "Name: State, dtype: object\n",
      "41855    MO\n",
      "Name: State, dtype: object\n",
      "6388    ME\n",
      "Name: State, dtype: object\n",
      "92116    WI\n",
      "Name: State, dtype: object\n",
      "42508    UT\n",
      "Name: State, dtype: object\n",
      "97507    NE\n",
      "Name: State, dtype: object\n",
      "67365    ND\n",
      "Name: State, dtype: object\n",
      "89235    WY\n",
      "Name: State, dtype: object\n",
      "21871    SD\n",
      "Name: State, dtype: object\n"
     ]
    }
   ],
   "source": [
    "highest = list(cluster_groups.sort_values('coverage_rate_mean', ascending=False)[0:10].index)\n",
    "lowest = list(cluster_groups.sort_values('coverage_rate_mean')[0:10].index)\n",
    "for high in highest:\n",
    "    State = results[results.clusters == high].State\n",
    "    print(State[0:1])\n",
    "for low in lowest:\n",
    "    State = results[results.clusters == low].State\n",
    "    print(State[0:1])"
   ]
  },
  {
   "cell_type": "markdown",
   "metadata": {},
   "source": [
    "Top 5 highest and lowest average number of services"
   ]
  },
  {
   "cell_type": "code",
   "execution_count": 653,
   "metadata": {
    "scrolled": true
   },
   "outputs": [
    {
     "data": {
      "text/plain": [
       "count    175311.000000\n",
       "mean         94.100114\n",
       "std          87.535096\n",
       "min          11.000000\n",
       "25%          28.000000\n",
       "50%          61.000000\n",
       "75%         132.000000\n",
       "max         515.000000\n",
       "Name: line_srvc_cnt, dtype: float64"
      ]
     },
     "execution_count": 653,
     "metadata": {},
     "output_type": "execute_result"
    }
   ],
   "source": [
    "results.line_srvc_cnt.describe()"
   ]
  },
  {
   "cell_type": "code",
   "execution_count": 655,
   "metadata": {},
   "outputs": [
    {
     "data": {
      "image/png": "[encoded data removed]",
      "text/plain": [
       "<Figure size 432x288 with 1 Axes>"
      ]
     },
     "metadata": {
      "needs_background": "light"
     },
     "output_type": "display_data"
    }
   ],
   "source": [
    "cluster_groups.line_srvc_cnt_mean.hist()\n",
    "plt.show()"
   ]
  },
  {
   "cell_type": "code",
   "execution_count": 650,
   "metadata": {
    "scrolled": true
   },
   "outputs": [
    {
     "name": "stdout",
     "output_type": "stream",
     "text": [
      "9507    NC\n",
      "Name: State, dtype: object\n",
      "117484    AK\n",
      "Name: State, dtype: object\n",
      "133919    SD\n",
      "Name: State, dtype: object\n",
      "40782    IN\n",
      "Name: State, dtype: object\n",
      "71510    WA\n",
      "Name: State, dtype: object\n",
      "3215    VA\n",
      "Name: State, dtype: object\n",
      "45428    NC\n",
      "Name: State, dtype: object\n",
      "10014    OH\n",
      "Name: State, dtype: object\n",
      "57649    SC\n",
      "Name: State, dtype: object\n",
      "5317    NC\n",
      "Name: State, dtype: object\n",
      "54605    CO\n",
      "Name: State, dtype: object\n",
      "125458    OR\n",
      "Name: State, dtype: object\n",
      "38423    MN\n",
      "Name: State, dtype: object\n",
      "38315    PR\n",
      "Name: State, dtype: object\n",
      "16843    CO\n",
      "Name: State, dtype: object\n",
      "191078    HI\n",
      "Name: State, dtype: object\n",
      "205807    AK\n",
      "Name: State, dtype: object\n",
      "168953    AZ\n",
      "Name: State, dtype: object\n",
      "102175    MN\n",
      "Name: State, dtype: object\n",
      "3725    MN\n",
      "Name: State, dtype: object\n",
      "7203    UT\n",
      "Name: State, dtype: object\n",
      "120570    AZ\n",
      "Name: State, dtype: object\n",
      "53651    NM\n",
      "Name: State, dtype: object\n",
      "43752    AZ\n",
      "Name: State, dtype: object\n",
      "7668    NJ\n",
      "Name: State, dtype: object\n",
      "48257    MI\n",
      "Name: State, dtype: object\n",
      "563    WA\n",
      "Name: State, dtype: object\n",
      "58489    WI\n",
      "Name: State, dtype: object\n",
      "62153    LA\n",
      "Name: State, dtype: object\n",
      "26467    NV\n",
      "Name: State, dtype: object\n",
      "86419    MN\n",
      "Name: State, dtype: object\n",
      "45168    CA\n",
      "Name: State, dtype: object\n",
      "47413    LA\n",
      "Name: State, dtype: object\n",
      "675    HI\n",
      "Name: State, dtype: object\n",
      "6085    NY\n",
      "Name: State, dtype: object\n",
      "22758    FL\n",
      "Name: State, dtype: object\n",
      "92116    WI\n",
      "Name: State, dtype: object\n",
      "25921    AZ\n",
      "Name: State, dtype: object\n",
      "56586    NJ\n",
      "Name: State, dtype: object\n",
      "36134    TX\n",
      "Name: State, dtype: object\n"
     ]
    }
   ],
   "source": [
    "highest = list(cluster_groups.sort_values('line_srvc_cnt_mean', ascending=False)[0:10].index)\n",
    "lowest = list(cluster_groups.sort_values('line_srvc_cnt_mean')[0:30].index)\n",
    "for high in highest:\n",
    "    State = results[results.clusters == high].State\n",
    "    print(State[0:1])\n",
    "for low in lowest:\n",
    "    State = results[results.clusters == low].State\n",
    "    print(State[0:1])"
   ]
  },
  {
   "cell_type": "code",
   "execution_count": null,
   "metadata": {},
   "outputs": [],
   "source": []
  },
  {
   "cell_type": "code",
   "execution_count": 593,
   "metadata": {},
   "outputs": [],
   "source": [
    "cluster_groups.to_csv('cluster_groups.csv')"
   ]
  }
 ],
 "metadata": {
  "kernelspec": {
   "display_name": "Python 3",
   "language": "python",
   "name": "python3"
  },
  "language_info": {
   "codemirror_mode": {
    "name": "ipython",
    "version": 3
   },
   "file_extension": ".py",
   "mimetype": "text/x-python",
   "name": "python",
   "nbconvert_exporter": "python",
   "pygments_lexer": "ipython3",
   "version": "3.8.5"
  }
 },
 "nbformat": 4,
 "nbformat_minor": 4
}
