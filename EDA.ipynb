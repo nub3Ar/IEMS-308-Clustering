{
 "cells": [
  {
   "cell_type": "code",
   "execution_count": 3,
   "metadata": {},
   "outputs": [],
   "source": [
    "import pandas as pd\n",
    "import pandas_profiling as pp\n",
    "pd.set_option('display.max_rows', 100)\n",
    "pd.set_option('display.max_columns', 100)\n",
    "pp.clear_config()"
   ]
  },
  {
   "cell_type": "code",
   "execution_count": 4,
   "metadata": {},
   "outputs": [
    {
     "name": "stderr",
     "output_type": "stream",
     "text": [
      "/home/barryz/anaconda3/lib/python3.8/site-packages/IPython/core/interactiveshell.py:3145: DtypeWarning: Columns (10) have mixed types.Specify dtype option on import or set low_memory=False.\n",
      "  has_raised = await self.run_ast_nodes(code_ast.body, cell_name,\n"
     ]
    }
   ],
   "source": [
    "data = pd.read_csv(\"/mnt/c/Course Data/Medicare_Provider_Util_Payment_PUF_CY2018/Medicare_Provider_Util_Payment_PUF_CY2018.txt\", sep='\\t')"
   ]
  },
  {
   "cell_type": "code",
   "execution_count": 5,
   "metadata": {
    "scrolled": true
   },
   "outputs": [
    {
     "data": {
      "text/plain": [
       "npi                                       0\n",
       "nppes_provider_last_org_name            144\n",
       "nppes_provider_first_name            419699\n",
       "nppes_provider_mi                   3001419\n",
       "nppes_credentials                    732427\n",
       "nppes_provider_gender                419599\n",
       "nppes_entity_code                         1\n",
       "nppes_provider_street1                 1688\n",
       "nppes_provider_street2              6265699\n",
       "nppes_provider_city                    1687\n",
       "nppes_provider_zip                     1688\n",
       "nppes_provider_state                      1\n",
       "nppes_provider_country                    1\n",
       "provider_type                             1\n",
       "medicare_participation_indicator          1\n",
       "place_of_service                          1\n",
       "hcpcs_code                                1\n",
       "hcpcs_description                         1\n",
       "hcpcs_drug_indicator                      1\n",
       "line_srvc_cnt                             1\n",
       "bene_unique_cnt                           1\n",
       "bene_day_srvc_cnt                         1\n",
       "average_Medicare_allowed_amt              1\n",
       "average_submitted_chrg_amt                1\n",
       "average_Medicare_payment_amt              1\n",
       "average_Medicare_standard_amt             1\n",
       "dtype: int64"
      ]
     },
     "execution_count": 5,
     "metadata": {},
     "output_type": "execute_result"
    }
   ],
   "source": [
    "#checking the amount of null data in each collumn\n",
    "data.isnull().sum()"
   ]
  },
  {
   "cell_type": "code",
   "execution_count": 6,
   "metadata": {
    "scrolled": true
   },
   "outputs": [
    {
     "data": {
      "text/plain": [
       "Diagnostic Radiology                                       1246653\n",
       "Internal Medicine                                          1054533\n",
       "Family Practice                                             952894\n",
       "Nurse Practitioner                                          630826\n",
       "Cardiology                                                  431235\n",
       "Physician Assistant                                         407751\n",
       "Orthopedic Surgery                                          295567\n",
       "Physical Therapist in Private Practice                      293847\n",
       "Anesthesiology                                              244192\n",
       "Ophthalmology                                               239707\n",
       "Emergency Medicine                                          230742\n",
       "Dermatology                                                 206238\n",
       "Podiatry                                                    189250\n",
       "Urology                                                     182574\n",
       "Gastroenterology                                            182290\n",
       "Optometry                                                   169307\n",
       "Hematology-Oncology                                         167267\n",
       "General Surgery                                             154368\n",
       "Pathology                                                   154010\n",
       "Pulmonary Disease                                           142023\n",
       "Neurology                                                   133596\n",
       "Certified Registered Nurse Anesthetist (CRNA)               128672\n",
       "Clinical Laboratory                                         116627\n",
       "Mass Immunizer Roster Biller                                114286\n",
       "Nephrology                                                  110228\n",
       "Obstetrics & Gynecology                                      98221\n",
       "Otolaryngology                                               96656\n",
       "Interventional Cardiology                                    86749\n",
       "Physical Medicine and Rehabilitation                         85641\n",
       "Psychiatry                                                   80304\n",
       "Radiation Oncology                                           80231\n",
       "Hospitalist                                                  78044\n",
       "Rheumatology                                                 69413\n",
       "Clinical Cardiac Electrophysiology                           66285\n",
       "Vascular Surgery                                             64102\n",
       "Ambulatory Surgical Center                                   58143\n",
       "Endocrinology                                                56456\n",
       "Medical Oncology                                             54545\n",
       "Centralized Flu                                              50888\n",
       "Interventional Radiology                                     47868\n",
       "Chiropractic                                                 46987\n",
       "Neurosurgery                                                 43821\n",
       "Pain Management                                              39269\n",
       "Infectious Disease                                           38769\n",
       "General Practice                                             37715\n",
       "Psychologist, Clinical                                       34521\n",
       "Independent Diagnostic Testing Facility (IDTF)               34044\n",
       "Interventional Pain Management                               33959\n",
       "Licensed Clinical Social Worker                              33373\n",
       "Ambulance Service Provider                                   32965\n",
       "Allergy/ Immunology                                          29586\n",
       "Occupational Therapist in Private Practice                   25694\n",
       "Critical Care (Intensivists)                                 25674\n",
       "Hand Surgery                                                 23497\n",
       "Plastic and Reconstructive Surgery                           23143\n",
       "Audiologist                                                  20972\n",
       "Geriatric Medicine                                           18873\n",
       "Thoracic Surgery                                             18001\n",
       "Colorectal Surgery (Proctology)                              13599\n",
       "Sports Medicine                                              12900\n",
       "Cardiac Surgery                                              12428\n",
       "Pediatric Medicine                                            8600\n",
       "Portable X-Ray Supplier                                       8506\n",
       "Nuclear Medicine                                              8231\n",
       "Gynecological Oncology                                        7723\n",
       "Hematology                                                    7606\n",
       "Certified Clinical Nurse Specialist                           7347\n",
       "Advanced Heart Failure and Transplant Cardiology              6974\n",
       "Hospice and Palliative Care                                   6552\n",
       "Surgical Oncology                                             6372\n",
       "Osteopathic Manipulative Medicine                             4830\n",
       "Anesthesiology Assistant                                      4795\n",
       "Undefined Physician type                                      3903\n",
       "Sleep Medicine                                                3708\n",
       "Registered Dietitian or Nutrition Professional                3310\n",
       "Oral Surgery (Dentist only)                                   3252\n",
       "Pharmacy                                                      2925\n",
       "Speech Language Pathologist                                   2701\n",
       "Maxillofacial Surgery                                         1739\n",
       "Preventive Medicine                                           1670\n",
       "Hematopoietic Cell Transplantation and Cellular Therapy       1287\n",
       "Certified Nurse Midwife                                       1241\n",
       "Geriatric Psychiatry                                          1082\n",
       "Peripheral Vascular Disease                                   1079\n",
       "Addiction Medicine                                             904\n",
       "Public Health or Welfare Agency                                856\n",
       "Neuropsychiatry                                                770\n",
       "Clinic or Group Practice                                       626\n",
       "Radiation Therapy Center                                       573\n",
       "All Other Suppliers                                            300\n",
       "Medical Toxicology                                             132\n",
       "Dentist                                                        117\n",
       "Mammography Center                                              50\n",
       "Slide Preparation Facility                                      29\n",
       "Unknown Supplier/Provider Specialty                             28\n",
       "Medicare Diabetes Preventive Program                            15\n",
       "Undersea and Hyperbaric Medicine                                 8\n",
       "Intensive Cardiac Rehabilitation                                 4\n",
       "Medical Genetics and Genomics                                    1\n",
       "Name: provider_type, dtype: int64"
      ]
     },
     "execution_count": 6,
     "metadata": {},
     "output_type": "execute_result"
    }
   ],
   "source": [
    "data.provider_type.value_counts()"
   ]
  },
  {
   "cell_type": "code",
   "execution_count": 7,
   "metadata": {},
   "outputs": [
    {
     "data": {
      "text/html": [
       "<div>\n",
       "<style scoped>\n",
       "    .dataframe tbody tr th:only-of-type {\n",
       "        vertical-align: middle;\n",
       "    }\n",
       "\n",
       "    .dataframe tbody tr th {\n",
       "        vertical-align: top;\n",
       "    }\n",
       "\n",
       "    .dataframe thead th {\n",
       "        text-align: right;\n",
       "    }\n",
       "</style>\n",
       "<table border=\"1\" class=\"dataframe\">\n",
       "  <thead>\n",
       "    <tr style=\"text-align: right;\">\n",
       "      <th></th>\n",
       "      <th>npi</th>\n",
       "      <th>line_srvc_cnt</th>\n",
       "      <th>bene_unique_cnt</th>\n",
       "      <th>bene_day_srvc_cnt</th>\n",
       "      <th>average_Medicare_allowed_amt</th>\n",
       "      <th>average_submitted_chrg_amt</th>\n",
       "      <th>average_Medicare_payment_amt</th>\n",
       "      <th>average_Medicare_standard_amt</th>\n",
       "    </tr>\n",
       "  </thead>\n",
       "  <tbody>\n",
       "    <tr>\n",
       "      <th>count</th>\n",
       "      <td>9.961866e+06</td>\n",
       "      <td>9.961865e+06</td>\n",
       "      <td>9.961865e+06</td>\n",
       "      <td>9.961865e+06</td>\n",
       "      <td>9.961865e+06</td>\n",
       "      <td>9.961865e+06</td>\n",
       "      <td>9.961865e+06</td>\n",
       "      <td>9.961865e+06</td>\n",
       "    </tr>\n",
       "    <tr>\n",
       "      <th>mean</th>\n",
       "      <td>1.499541e+09</td>\n",
       "      <td>2.493754e+02</td>\n",
       "      <td>8.734895e+01</td>\n",
       "      <td>1.393506e+02</td>\n",
       "      <td>1.031440e+02</td>\n",
       "      <td>3.644679e+02</td>\n",
       "      <td>7.885533e+01</td>\n",
       "      <td>7.930758e+01</td>\n",
       "    </tr>\n",
       "    <tr>\n",
       "      <th>std</th>\n",
       "      <td>2.877158e+08</td>\n",
       "      <td>6.102059e+03</td>\n",
       "      <td>1.211845e+03</td>\n",
       "      <td>2.046794e+03</td>\n",
       "      <td>2.938051e+02</td>\n",
       "      <td>1.114721e+03</td>\n",
       "      <td>2.284682e+02</td>\n",
       "      <td>2.289130e+02</td>\n",
       "    </tr>\n",
       "    <tr>\n",
       "      <th>min</th>\n",
       "      <td>1.000000e+00</td>\n",
       "      <td>4.500000e+00</td>\n",
       "      <td>1.100000e+01</td>\n",
       "      <td>1.100000e+01</td>\n",
       "      <td>1.666667e-04</td>\n",
       "      <td>1.666667e-04</td>\n",
       "      <td>0.000000e+00</td>\n",
       "      <td>0.000000e+00</td>\n",
       "    </tr>\n",
       "    <tr>\n",
       "      <th>25%</th>\n",
       "      <td>1.245730e+09</td>\n",
       "      <td>2.000000e+01</td>\n",
       "      <td>1.700000e+01</td>\n",
       "      <td>2.000000e+01</td>\n",
       "      <td>2.279000e+01</td>\n",
       "      <td>6.000000e+01</td>\n",
       "      <td>1.909387e+01</td>\n",
       "      <td>1.980464e+01</td>\n",
       "    </tr>\n",
       "    <tr>\n",
       "      <th>50%</th>\n",
       "      <td>1.497959e+09</td>\n",
       "      <td>4.300000e+01</td>\n",
       "      <td>3.200000e+01</td>\n",
       "      <td>4.000000e+01</td>\n",
       "      <td>6.606000e+01</td>\n",
       "      <td>1.500000e+02</td>\n",
       "      <td>4.823550e+01</td>\n",
       "      <td>4.899765e+01</td>\n",
       "    </tr>\n",
       "    <tr>\n",
       "      <th>75%</th>\n",
       "      <td>1.740646e+09</td>\n",
       "      <td>1.170000e+02</td>\n",
       "      <td>7.500000e+01</td>\n",
       "      <td>1.060000e+02</td>\n",
       "      <td>1.140738e+02</td>\n",
       "      <td>3.060000e+02</td>\n",
       "      <td>8.599000e+01</td>\n",
       "      <td>8.560725e+01</td>\n",
       "    </tr>\n",
       "    <tr>\n",
       "      <th>max</th>\n",
       "      <td>1.993000e+09</td>\n",
       "      <td>1.076244e+07</td>\n",
       "      <td>8.898900e+05</td>\n",
       "      <td>1.731455e+06</td>\n",
       "      <td>5.528929e+04</td>\n",
       "      <td>9.999999e+04</td>\n",
       "      <td>4.334680e+04</td>\n",
       "      <td>4.334680e+04</td>\n",
       "    </tr>\n",
       "  </tbody>\n",
       "</table>\n",
       "</div>"
      ],
      "text/plain": [
       "                npi  line_srvc_cnt  bene_unique_cnt  bene_day_srvc_cnt  \\\n",
       "count  9.961866e+06   9.961865e+06     9.961865e+06       9.961865e+06   \n",
       "mean   1.499541e+09   2.493754e+02     8.734895e+01       1.393506e+02   \n",
       "std    2.877158e+08   6.102059e+03     1.211845e+03       2.046794e+03   \n",
       "min    1.000000e+00   4.500000e+00     1.100000e+01       1.100000e+01   \n",
       "25%    1.245730e+09   2.000000e+01     1.700000e+01       2.000000e+01   \n",
       "50%    1.497959e+09   4.300000e+01     3.200000e+01       4.000000e+01   \n",
       "75%    1.740646e+09   1.170000e+02     7.500000e+01       1.060000e+02   \n",
       "max    1.993000e+09   1.076244e+07     8.898900e+05       1.731455e+06   \n",
       "\n",
       "       average_Medicare_allowed_amt  average_submitted_chrg_amt  \\\n",
       "count                  9.961865e+06                9.961865e+06   \n",
       "mean                   1.031440e+02                3.644679e+02   \n",
       "std                    2.938051e+02                1.114721e+03   \n",
       "min                    1.666667e-04                1.666667e-04   \n",
       "25%                    2.279000e+01                6.000000e+01   \n",
       "50%                    6.606000e+01                1.500000e+02   \n",
       "75%                    1.140738e+02                3.060000e+02   \n",
       "max                    5.528929e+04                9.999999e+04   \n",
       "\n",
       "       average_Medicare_payment_amt  average_Medicare_standard_amt  \n",
       "count                  9.961865e+06                   9.961865e+06  \n",
       "mean                   7.885533e+01                   7.930758e+01  \n",
       "std                    2.284682e+02                   2.289130e+02  \n",
       "min                    0.000000e+00                   0.000000e+00  \n",
       "25%                    1.909387e+01                   1.980464e+01  \n",
       "50%                    4.823550e+01                   4.899765e+01  \n",
       "75%                    8.599000e+01                   8.560725e+01  \n",
       "max                    4.334680e+04                   4.334680e+04  "
      ]
     },
     "execution_count": 7,
     "metadata": {},
     "output_type": "execute_result"
    }
   ],
   "source": [
    "data.describe()"
   ]
  },
  {
   "cell_type": "code",
   "execution_count": 17,
   "metadata": {},
   "outputs": [],
   "source": [
    "# quick cleaning\n",
    "# Only take individual Cardiologist, providers who practice in the US, participates in Medicare\n",
    "data = data[1:]\n",
    "data = data[data.medicare_participation_indicator == 'Y']\n",
    "data = data[data.nppes_entity_code == 'I']\n",
    "data = data[data.nppes_provider_country == 'US']\n",
    "data = data[(data.provider_type == 'Cardiology') | (data.provider_type == 'Pulmonary Disease') | (data.provider_type == 'Nephrology')]"
   ]
  },
  {
   "cell_type": "code",
   "execution_count": 18,
   "metadata": {},
   "outputs": [],
   "source": [
    "data.to_csv('COVID doctors.csv')"
   ]
  },
  {
   "cell_type": "markdown",
   "metadata": {},
   "source": [
    "### EDA:\n",
    "* Feature Summary and Type\n",
    "    * Type\n",
    "    * Histogram\n",
    "    \n",
    "* Correlation among the numeric features\n",
    "* missing data visualization"
   ]
  },
  {
   "cell_type": "code",
   "execution_count": 21,
   "metadata": {},
   "outputs": [
    {
     "data": {
      "text/plain": [
       "['npi',\n",
       " 'nppes_provider_last_org_name',\n",
       " 'nppes_provider_first_name',\n",
       " 'nppes_provider_mi',\n",
       " 'nppes_credentials',\n",
       " 'nppes_provider_gender',\n",
       " 'nppes_entity_code',\n",
       " 'nppes_provider_street1',\n",
       " 'nppes_provider_street2',\n",
       " 'nppes_provider_city',\n",
       " 'nppes_provider_zip',\n",
       " 'nppes_provider_state',\n",
       " 'nppes_provider_country',\n",
       " 'provider_type',\n",
       " 'medicare_participation_indicator',\n",
       " 'place_of_service',\n",
       " 'hcpcs_code',\n",
       " 'hcpcs_description',\n",
       " 'hcpcs_drug_indicator',\n",
       " 'line_srvc_cnt',\n",
       " 'bene_unique_cnt',\n",
       " 'bene_day_srvc_cnt',\n",
       " 'average_Medicare_allowed_amt',\n",
       " 'average_submitted_chrg_amt',\n",
       " 'average_Medicare_payment_amt',\n",
       " 'average_Medicare_standard_amt']"
      ]
     },
     "execution_count": 21,
     "metadata": {},
     "output_type": "execute_result"
    }
   ],
   "source": [
    "list(data.columns)"
   ]
  },
  {
   "cell_type": "code",
   "execution_count": 24,
   "metadata": {},
   "outputs": [
    {
     "data": {
      "text/plain": [
       "99214    38255\n",
       "99232    27665\n",
       "99213    27184\n",
       "93306    25873\n",
       "99204    24190\n",
       "         ...  \n",
       "00520        1\n",
       "92611        1\n",
       "86301        1\n",
       "33530        1\n",
       "33224        1\n",
       "Name: hcpcs_code, Length: 1467, dtype: int64"
      ]
     },
     "execution_count": 24,
     "metadata": {},
     "output_type": "execute_result"
    }
   ],
   "source": [
    "data.hcpcs_code.value_counts()"
   ]
  },
  {
   "cell_type": "code",
   "execution_count": 25,
   "metadata": {},
   "outputs": [],
   "source": [
    "EDA_data = data[[\n",
    " 'nppes_provider_gender',\n",
    " 'nppes_provider_city',\n",
    " 'nppes_provider_zip',\n",
    " 'nppes_provider_state',\n",
    " 'provider_type',\n",
    " 'place_of_service',\n",
    " 'line_srvc_cnt',\n",
    " 'bene_unique_cnt',\n",
    " 'bene_day_srvc_cnt',\n",
    " 'average_Medicare_allowed_amt',\n",
    " 'average_submitted_chrg_amt',\n",
    " 'average_Medicare_payment_amt',\n",
    " 'average_Medicare_standard_amt']]"
   ]
  },
  {
   "cell_type": "code",
   "execution_count": 26,
   "metadata": {
    "scrolled": true
   },
   "outputs": [
    {
     "data": {
      "application/vnd.jupyter.widget-view+json": {
       "model_id": "509eaec4ec3f4dc3b551693083158aa4",
       "version_major": 2,
       "version_minor": 0
      },
      "text/plain": [
       "HBox(children=(FloatProgress(value=0.0, description='Summarize dataset', max=24.0, style=ProgressStyle(descrip…"
      ]
     },
     "metadata": {},
     "output_type": "display_data"
    },
    {
     "name": "stdout",
     "output_type": "stream",
     "text": [
      "\n"
     ]
    },
    {
     "data": {
      "application/vnd.jupyter.widget-view+json": {
       "model_id": "bbd9686b6280407892632dd987bb9110",
       "version_major": 2,
       "version_minor": 0
      },
      "text/plain": [
       "HBox(children=(FloatProgress(value=0.0, description='Generate report structure', max=1.0, style=ProgressStyle(…"
      ]
     },
     "metadata": {},
     "output_type": "display_data"
    },
    {
     "name": "stdout",
     "output_type": "stream",
     "text": [
      "\n"
     ]
    },
    {
     "data": {
      "application/vnd.jupyter.widget-view+json": {
       "model_id": "4d1c98b1a6a04883976c89ea5f5f177f",
       "version_major": 2,
       "version_minor": 0
      },
      "text/plain": [
       "HBox(children=(FloatProgress(value=0.0, description='Render HTML', max=1.0, style=ProgressStyle(description_wi…"
      ]
     },
     "metadata": {},
     "output_type": "display_data"
    },
    {
     "name": "stdout",
     "output_type": "stream",
     "text": [
      "\n"
     ]
    },
    {
     "data": {
      "application/vnd.jupyter.widget-view+json": {
       "model_id": "8ae49aba6dd745ea944e8e6df0284db7",
       "version_major": 2,
       "version_minor": 0
      },
      "text/plain": [
       "HBox(children=(FloatProgress(value=0.0, description='Export report to file', max=1.0, style=ProgressStyle(desc…"
      ]
     },
     "metadata": {},
     "output_type": "display_data"
    },
    {
     "name": "stdout",
     "output_type": "stream",
     "text": [
      "\n"
     ]
    }
   ],
   "source": [
    "profile = pp.ProfileReport(EDA_data, correlations={\n",
    "         \"kendall\": {\"calculate\": False},\n",
    "         \"phi_k\": {\"calculate\": False},\n",
    "         \"cramers\": {\"calculate\": False}}\n",
    "                          )\n",
    "profile.to_file('EDA.html')"
   ]
  },
  {
   "cell_type": "code",
   "execution_count": 27,
   "metadata": {},
   "outputs": [
    {
     "data": {
      "text/plain": [
       "count         683408\n",
       "unique             3\n",
       "top       Cardiology\n",
       "freq          431204\n",
       "Name: provider_type, dtype: object"
      ]
     },
     "execution_count": 27,
     "metadata": {},
     "output_type": "execute_result"
    }
   ],
   "source": [
    "data.provider_type.describe()"
   ]
  }
 ],
 "metadata": {
  "kernelspec": {
   "display_name": "Python 3",
   "language": "python",
   "name": "python3"
  },
  "language_info": {
   "codemirror_mode": {
    "name": "ipython",
    "version": 3
   },
   "file_extension": ".py",
   "mimetype": "text/x-python",
   "name": "python",
   "nbconvert_exporter": "python",
   "pygments_lexer": "ipython3",
   "version": "3.8.5"
  }
 },
 "nbformat": 4,
 "nbformat_minor": 4
}
